{
 "cells": [
  {
   "cell_type": "code",
   "execution_count": 1,
   "metadata": {},
   "outputs": [],
   "source": [
    "import numpy as np\n",
    "import pandas as pd\n",
    "from sklearn.metrics import mean_squared_error as rms\n",
    "from sklearn.metrics import roc_auc_score\n",
    "from math import exp"
   ]
  },
  {
   "cell_type": "code",
   "execution_count": 3,
   "metadata": {},
   "outputs": [],
   "source": [
    "data = pd.read_csv('data-logistic.csv', header=None)"
   ]
  },
  {
   "cell_type": "code",
   "execution_count": 4,
   "metadata": {},
   "outputs": [],
   "source": [
    "x = data.iloc[:, 1:]\n",
    "y = data[0]"
   ]
  },
  {
   "cell_type": "code",
   "execution_count": 5,
   "metadata": {},
   "outputs": [],
   "source": [
    "K = 0.1\n",
    "ERROR = 1e-5\n",
    "\n",
    "def sigma_y(i, w1, w2):\n",
    "    return 1. / (1. + exp(-y[i] * (w1*x[1][i] + w2*x[2][i])))\n",
    "\n",
    "def delta_for_w(w_index, w1, w2, C):\n",
    "    addition = sum((\n",
    "        y[i] * x[w_index][i] * (1. - sigma_y(i, w1, w2)) for i in np.arange(0, len(y))\n",
    "    ))\n",
    "    addition *= K / len(y)\n",
    "    addition -= K * C * (w1 if w_index == 1 else w2)\n",
    "    \n",
    "    return addition"
   ]
  },
  {
   "cell_type": "code",
   "execution_count": 6,
   "metadata": {},
   "outputs": [],
   "source": [
    "def gradient_regressor(C, iterations_remaining=10000):\n",
    "    changed_w1, changed_w2 = 0., 0.\n",
    "    while iterations_remaining:\n",
    "        iterations_remaining -= 1\n",
    "        w1, w2 = changed_w1, changed_w2\n",
    "        changed_w1 = w1 + delta_for_w(1, w1, w2, C)\n",
    "        changed_w2 = w2 + delta_for_w(2, w1, w2, C)\n",
    "        if np.sqrt(rms([w1, w2], [changed_w1, changed_w2])) <= ERROR:\n",
    "            break\n",
    "    return changed_w1, changed_w2\n",
    "\n",
    "def sigma(xi, w1, w2):\n",
    "    return 1. / (1 + np.exp(-w1 * xi[1] - w2 * xi[2]))"
   ]
  },
  {
   "cell_type": "code",
   "execution_count": 7,
   "metadata": {},
   "outputs": [
    {
     "name": "stdout",
     "output_type": "stream",
     "text": [
      "0.28768325128305977 0.09210201173422795 0.028558754546234223 0.024780137249735563\n"
     ]
    }
   ],
   "source": [
    "w1, w2 = gradient_regressor(0.)\n",
    "l2w1, l2w2 = gradient_regressor(10.)\n",
    "\n",
    "print(w1, w2, l2w1, l2w2)\n",
    "\n",
    "scores = x.apply(lambda xi: sigma(xi, w1, w2), axis=1)\n",
    "l2scores = x.apply(lambda xi: sigma(xi, l2w1, l2w2), axis=1)"
   ]
  },
  {
   "cell_type": "code",
   "execution_count": 8,
   "metadata": {},
   "outputs": [
    {
     "name": "stdout",
     "output_type": "stream",
     "text": [
      "0.9268571428571428\n",
      "0.9362857142857142\n"
     ]
    }
   ],
   "source": [
    "auc_score = roc_auc_score(y, scores)\n",
    "l2_auc_score = roc_auc_score(y, l2scores)\n",
    "\n",
    "print(auc_score)\n",
    "print(l2_auc_score)\n",
    "\n",
    "f = open('answer.txt', 'w')\n",
    "f.write(str(auc_score) + ' ' + str(l2_auc_score))\n",
    "f.close()"
   ]
  },
  {
   "cell_type": "code",
   "execution_count": null,
   "metadata": {},
   "outputs": [],
   "source": []
  }
 ],
 "metadata": {
  "kernelspec": {
   "display_name": "Python 3",
   "language": "python",
   "name": "python3"
  },
  "language_info": {
   "codemirror_mode": {
    "name": "ipython",
    "version": 3
   },
   "file_extension": ".py",
   "mimetype": "text/x-python",
   "name": "python",
   "nbconvert_exporter": "python",
   "pygments_lexer": "ipython3",
   "version": "3.7.4"
  }
 },
 "nbformat": 4,
 "nbformat_minor": 2
}
