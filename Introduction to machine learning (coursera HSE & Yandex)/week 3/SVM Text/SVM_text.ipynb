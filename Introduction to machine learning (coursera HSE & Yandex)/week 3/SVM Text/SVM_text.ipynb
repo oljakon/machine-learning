{
 "cells": [
  {
   "cell_type": "code",
   "execution_count": 1,
   "metadata": {},
   "outputs": [],
   "source": [
    "from sklearn import datasets\n",
    "from sklearn.feature_extraction.text import TfidfVectorizer\n",
    "from sklearn.svm import SVC\n",
    "from sklearn.model_selection import GridSearchCV\n",
    "from sklearn.model_selection import KFold\n",
    "import numpy as np"
   ]
  },
  {
   "cell_type": "code",
   "execution_count": 2,
   "metadata": {},
   "outputs": [],
   "source": [
    "newsgroups = datasets.fetch_20newsgroups(\n",
    "                    subset='all', \n",
    "                    categories=['alt.atheism', 'sci.space']\n",
    "             )"
   ]
  },
  {
   "cell_type": "code",
   "execution_count": 3,
   "metadata": {},
   "outputs": [],
   "source": [
    "x = newsgroups.data\n",
    "y = newsgroups.target"
   ]
  },
  {
   "cell_type": "code",
   "execution_count": 4,
   "metadata": {},
   "outputs": [
    {
     "name": "stdout",
     "output_type": "stream",
     "text": [
      "  (0, 7135)\t0.09177291452449737\n",
      "  (0, 4228)\t0.09732962706472328\n",
      "  (0, 7730)\t0.02575006576343587\n",
      "  (0, 10229)\t0.07116022661373511\n",
      "  (0, 19790)\t0.13853387972005007\n",
      "  (0, 15344)\t0.05308005187089393\n",
      "  (0, 20738)\t0.06612072788446571\n",
      "  (0, 23930)\t0.025879967583209106\n",
      "  (0, 7156)\t0.05954839972168062\n",
      "  (0, 17180)\t0.08346610253642223\n",
      "  (0, 21711)\t0.09732962706472328\n",
      "  (0, 26651)\t0.04831465306608014\n",
      "  (0, 23767)\t0.09427154747892712\n",
      "  (0, 18131)\t0.04803011953672212\n",
      "  (0, 27676)\t0.0271693788925225\n",
      "  (0, 5591)\t0.07750026888717974\n",
      "  (0, 16195)\t0.04900248039624845\n",
      "  (0, 4594)\t0.029268293013519193\n",
      "  (0, 21315)\t0.08966035046275332\n",
      "  (0, 5542)\t0.1724324039685429\n",
      "  (0, 19013)\t0.052035390940301\n",
      "  (0, 18071)\t0.029078607779420725\n",
      "  (0, 13384)\t0.09427154747892712\n",
      "  (0, 9776)\t0.05697744713041564\n",
      "  (0, 27786)\t0.09732962706472328\n",
      "  :\t:\n",
      "  (1785, 27676)\t0.04497597829354177\n",
      "  (1785, 18071)\t0.024068250464378153\n",
      "  (1785, 28273)\t0.02370385618179079\n",
      "  (1785, 18954)\t0.016313452448975245\n",
      "  (1785, 12908)\t0.060330997671467546\n",
      "  (1785, 16783)\t0.05810817613161691\n",
      "  (1785, 10000)\t0.021765457638456588\n",
      "  (1785, 12871)\t0.18951149180849122\n",
      "  (1785, 15175)\t0.043493584548029054\n",
      "  (1785, 12104)\t0.015048692197873716\n",
      "  (1785, 25899)\t0.012241087902054174\n",
      "  (1785, 18589)\t0.016491932958211497\n",
      "  (1785, 26915)\t0.08878505107349229\n",
      "  (1785, 15097)\t0.06763710821592854\n",
      "  (1785, 4455)\t0.2211442342147447\n",
      "  (1785, 11147)\t0.18063971661596553\n",
      "  (1785, 15152)\t0.04334651026160963\n",
      "  (1785, 25600)\t0.08190733846988688\n",
      "  (1785, 28268)\t0.016157126889259184\n",
      "  (1785, 4796)\t0.01705536765921036\n",
      "  (1785, 14361)\t0.06134301621684293\n",
      "  (1785, 16346)\t0.011362252752128581\n",
      "  (1785, 24745)\t0.011343193894839195\n",
      "  (1785, 25602)\t0.30431308417481073\n",
      "  (1785, 12328)\t0.011343193894839195\n"
     ]
    }
   ],
   "source": [
    "vectorizer = TfidfVectorizer()\n",
    "data = vectorizer.fit_transform(newsgroups.data)\n",
    "print(data)"
   ]
  },
  {
   "cell_type": "code",
   "execution_count": 5,
   "metadata": {},
   "outputs": [
    {
     "data": {
      "text/plain": [
       "GridSearchCV(cv=KFold(n_splits=5, random_state=241, shuffle=True),\n",
       "             error_score='raise-deprecating',\n",
       "             estimator=SVC(C=1.0, cache_size=200, class_weight=None, coef0=0.0,\n",
       "                           decision_function_shape='ovr', degree=3,\n",
       "                           gamma='auto_deprecated', kernel='linear',\n",
       "                           max_iter=-1, probability=False, random_state=241,\n",
       "                           shrinking=True, tol=0.001, verbose=False),\n",
       "             iid='warn', n_jobs=-1,\n",
       "             param_grid={'C': array([1.e-05, 1.e-04, 1.e-03, 1.e-02, 1.e-01, 1.e+00, 1.e+01, 1.e+02,\n",
       "       1.e+03, 1.e+04, 1.e+05])},\n",
       "             pre_dispatch='2*n_jobs', refit=True, return_train_score=False,\n",
       "             scoring='accuracy', verbose=0)"
      ]
     },
     "execution_count": 5,
     "metadata": {},
     "output_type": "execute_result"
    }
   ],
   "source": [
    "C_grid = {'C': np.power(10.0, np.arange(-5, 6))}\n",
    "kf = KFold(n_splits=5, shuffle=True, random_state=241)\n",
    "clf = SVC(kernel='linear', random_state=241)\n",
    "gs = GridSearchCV(clf, C_grid, scoring='accuracy', cv=kf, n_jobs=-1)\n",
    "gs.fit(data, y)"
   ]
  },
  {
   "cell_type": "code",
   "execution_count": 6,
   "metadata": {},
   "outputs": [
    {
     "name": "stdout",
     "output_type": "stream",
     "text": [
      "SVC(C=1.0, cache_size=200, class_weight=None, coef0=0.0,\n",
      "    decision_function_shape='ovr', degree=3, gamma='auto_deprecated',\n",
      "    kernel='linear', max_iter=-1, probability=False, random_state=241,\n",
      "    shrinking=True, tol=0.001, verbose=False)\n"
     ]
    }
   ],
   "source": [
    "print(gs.best_estimator_)"
   ]
  },
  {
   "cell_type": "code",
   "execution_count": 8,
   "metadata": {},
   "outputs": [
    {
     "data": {
      "text/plain": [
       "SVC(C=1.0, cache_size=200, class_weight=None, coef0=0.0,\n",
       "    decision_function_shape='ovr', degree=3, gamma='auto_deprecated',\n",
       "    kernel='linear', max_iter=-1, probability=False, random_state=241,\n",
       "    shrinking=True, tol=0.001, verbose=False)"
      ]
     },
     "execution_count": 8,
     "metadata": {},
     "output_type": "execute_result"
    }
   ],
   "source": [
    "clf.fit(data, y)"
   ]
  },
  {
   "cell_type": "code",
   "execution_count": 10,
   "metadata": {},
   "outputs": [
    {
     "name": "stdout",
     "output_type": "stream",
     "text": [
      "[(1.2546899512384038, 'atheism'), (1.2491800073760078, 'atheists'), (1.1306123446649008, 'bible'), (1.9203794002294927, 'god'), (1.0970936466401477, 'keith'), (1.201611181752071, 'moon'), (1.13908083789883, 'religion'), (1.0293069271856938, 'sci'), (1.1801315951388636, 'sky'), (2.6631647884797105, 'space')]\n"
     ]
    }
   ],
   "source": [
    "feature_map = vectorizer.get_feature_names()\n",
    "weights = np.absolute(clf.coef_.toarray())\n",
    "max_weights = sorted(zip(weights[0], feature_map))[-10:]\n",
    "max_weights.sort(key=lambda x: x[1])\n",
    "print(max_weights)"
   ]
  },
  {
   "cell_type": "code",
   "execution_count": 13,
   "metadata": {},
   "outputs": [],
   "source": [
    "f = open('text.txt', 'w')\n",
    "for w, c in max_weights[:-1]:\n",
    "    f.write(c)\n",
    "    f.write(',')\n",
    "f.write(max_weights[-1][1])\n",
    "f.close()"
   ]
  },
  {
   "cell_type": "code",
   "execution_count": null,
   "metadata": {},
   "outputs": [],
   "source": []
  }
 ],
 "metadata": {
  "kernelspec": {
   "display_name": "Python 3",
   "language": "python",
   "name": "python3"
  },
  "language_info": {
   "codemirror_mode": {
    "name": "ipython",
    "version": 3
   },
   "file_extension": ".py",
   "mimetype": "text/x-python",
   "name": "python",
   "nbconvert_exporter": "python",
   "pygments_lexer": "ipython3",
   "version": "3.7.4"
  }
 },
 "nbformat": 4,
 "nbformat_minor": 2
}
