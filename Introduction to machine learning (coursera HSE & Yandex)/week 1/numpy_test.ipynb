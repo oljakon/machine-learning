{
 "cells": [
  {
   "cell_type": "code",
   "execution_count": 1,
   "metadata": {},
   "outputs": [],
   "source": [
    "import numpy as np"
   ]
  },
  {
   "cell_type": "code",
   "execution_count": 3,
   "metadata": {},
   "outputs": [
    {
     "name": "stdout",
     "output_type": "stream",
     "text": [
      "[[ -2.58364073   6.82920845   9.23119137 ... -11.09680818   0.32660501\n",
      "   -4.35615197]\n",
      " [  1.58127133  -3.88879257  -2.8842747  ...   6.30313103   0.67348351\n",
      "   10.61572929]\n",
      " [ -5.50381045 -14.45938696   4.61997502 ...  -1.81292647  -2.88508068\n",
      "    6.97564003]\n",
      " ...\n",
      " [ 15.72004275 -23.81193137  13.6504634  ...  -3.83250937  -5.18185432\n",
      "    7.52957611]\n",
      " [ -4.46510442   5.6966831   -3.77730648 ...  -8.29610199   4.59284303\n",
      "   -3.67674564]\n",
      " [  4.93705654   9.43180503  -5.94865457 ...   4.85679698  -0.51945651\n",
      "   13.54843222]]\n"
     ]
    }
   ],
   "source": [
    "X = np.random.normal(loc=1, scale=10, size=(1000, 50))\n",
    "print(X)"
   ]
  },
  {
   "cell_type": "code",
   "execution_count": 4,
   "metadata": {},
   "outputs": [
    {
     "name": "stdout",
     "output_type": "stream",
     "text": [
      "[[4 5 0]\n",
      " [1 9 3]\n",
      " [5 1 1]\n",
      " [3 3 3]\n",
      " [9 9 9]\n",
      " [4 7 1]]\n"
     ]
    }
   ],
   "source": [
    "Z = np.array([[4, 5, 0], \n",
    "             [1, 9, 3],              \n",
    "             [5, 1, 1],\n",
    "             [3, 3, 3], \n",
    "             [9, 9, 9], \n",
    "             [4, 7, 1]])\n",
    "print(Z)"
   ]
  },
  {
   "cell_type": "code",
   "execution_count": 5,
   "metadata": {},
   "outputs": [
    {
     "name": "stdout",
     "output_type": "stream",
     "text": [
      "(array([1, 4, 5]),)\n"
     ]
    }
   ],
   "source": [
    "r = np.sum(Z, axis=1)\n",
    "print (np.nonzero(r > 10))"
   ]
  },
  {
   "cell_type": "code",
   "execution_count": 6,
   "metadata": {},
   "outputs": [
    {
     "name": "stdout",
     "output_type": "stream",
     "text": [
      "[[1. 0. 0.]\n",
      " [0. 1. 0.]\n",
      " [0. 0. 1.]\n",
      " [1. 0. 0.]\n",
      " [0. 1. 0.]\n",
      " [0. 0. 1.]]\n"
     ]
    }
   ],
   "source": [
    "m1 = np.eye(3)\n",
    "m2 = np.eye(3)\n",
    "m12 = np.vstack((m1, m2))\n",
    "print(m12)"
   ]
  },
  {
   "cell_type": "code",
   "execution_count": null,
   "metadata": {},
   "outputs": [],
   "source": []
  }
 ],
 "metadata": {
  "kernelspec": {
   "display_name": "Python 3",
   "language": "python",
   "name": "python3"
  },
  "language_info": {
   "codemirror_mode": {
    "name": "ipython",
    "version": 3
   },
   "file_extension": ".py",
   "mimetype": "text/x-python",
   "name": "python",
   "nbconvert_exporter": "python",
   "pygments_lexer": "ipython3",
   "version": "3.7.4"
  }
 },
 "nbformat": 4,
 "nbformat_minor": 2
}
